{
  "nbformat": 4,
  "nbformat_minor": 0,
  "metadata": {
    "colab": {
      "name": "T4_B.ipynb",
      "provenance": [],
      "collapsed_sections": [],
      "include_colab_link": true
    },
    "kernelspec": {
      "name": "python3",
      "display_name": "Python 3"
    }
  },
  "cells": [
    {
      "cell_type": "markdown",
      "metadata": {
        "id": "view-in-github",
        "colab_type": "text"
      },
      "source": [
        "<a href=\"https://colab.research.google.com/github/samuelhenrick1/Mineira-o/blob/main/T4_B.ipynb\" target=\"_parent\"><img src=\"https://colab.research.google.com/assets/colab-badge.svg\" alt=\"Open In Colab\"/></a>"
      ]
    },
    {
      "cell_type": "markdown",
      "metadata": {
        "id": "J3LMBfpeHTwb"
      },
      "source": [
        "<head>\n",
        "  <meta name=\"author\" content=\"Rogério de Oliveira\">\n",
        "  <meta institution=\"author\" content=\"Universidade Presbiteriana Mackenzie\">\n",
        "</head>\n",
        "\n",
        "<img src=\"http://meusite.mackenzie.br/rogerio/mackenzie_logo/UPM.2_horizontal_vermelho.jpg\" width=300, align=\"right\">\n",
        "<!-- <h1 align=left><font size = 6, style=\"color:rgb(200,0,0)\"> optional title </font></h1> -->\n"
      ]
    },
    {
      "cell_type": "markdown",
      "metadata": {
        "id": "zQX8WQPeHTwc"
      },
      "source": [
        "# **Tarefa de Aprofundamento 4** \n",
        "## Discussão do CASO: Controle de Qualidade de Peças de uma Indústria\n",
        "\n",
        "<br>\n",
        "<br>\n",
        "<br>\n",
        "\n",
        "Com base na atividade *Tarefa de Aprofundamento 3*, **Pesquise e Discuta apenas uma** das perguntas a seguir.\n"
      ]
    },
    {
      "cell_type": "markdown",
      "metadata": {
        "id": "nGZH-j05q8WZ"
      },
      "source": [
        "### 1. Na Tarefa de Aprofundamento 3 empregamos apenas a Acuracidade dos modelos como critério de seleção do melhor modelo. Dê um exemplo da limitação dessa abordagem e que solução você sugeriria para contornar essa limitação. "
      ]
    },
    {
      "cell_type": "markdown",
      "metadata": {
        "id": "Oar--2gn9EJ0"
      },
      "source": [
        "A aplicação da acuracidade dos modelos como critério de seleção do melhor modelo nos auxilia no processo de estocagem a conhecer melhor os produtos que temos, a intensidade de qualidade e entendermos melhor as limitações do produto, é possível observar no dataset Peças quatro teses diferentes para definir a qualidade de aceitação, isso nos ajuda identificar se o fabricante da peça segue e mantem ISO de qualidades ou afrouxa as medidas de fabricação do material, pois acaba sendo comum em determinadas relações esse afrouxamento conforme o tempo de relacionamento vai se expandindo. \n",
        "Essa limitação da acuracidade é de extrema importância, cujo podemos chamar de precisão, que nos indica a qualidade e a confiabilidade do produto, podemos até classificá-los com KPI.\n",
        "Atualmente no CMSP (Companhia do Metropolitano de São Paulo) há um teste de qualidade de produtos no Pátio Jabaquara antes de estocar os produtos no armazém do Metrô, existem equipamentos como luva resistente a alta tensão que são testadas de modo submerso a fim de confirmar os padrões de qualidade e resistência, a limitação da acuracidade poderia impactar na negação de validação de algumas luvas, gerando Falso Positivos, Falsos Positivos, Verdadeiros Positivos e Verdadeiros Negativos, um fator de correção para aguçar a  validação do produto seria inserir uma margem ou percentil de margem de erro baixíssimo, ou treinar um modelo que determinasse a margem de erro para validação de itens com uma pequena tolerância.\n"
      ]
    },
    {
      "cell_type": "markdown",
      "metadata": {
        "id": "p32U1tt_9XBd"
      },
      "source": [
        "### 2. Na Tarefa de Aprofundamento 3 você encontra um modelo de Árvore de Decisão métricas de desempenho do modelo todas muito superiores ao modelo de Regressão Logística e KVizinhos Mais Próximos. Um colega então faz a seguinte afirmação *Modelos de Árvores de Decisão são mais robustos e **sempre** fornecem resultados melhores que modelos mais simples em um mesmo conjunto de dados*. Esse colega está correto na sua afirmação? Como você responderia a ele?"
      ]
    },
    {
      "cell_type": "markdown",
      "metadata": {
        "id": "-tdb6x3s9XBd"
      },
      "source": [
        "*Sua resposta aqui em 1 (um) parágrafo.*"
      ]
    },
    {
      "cell_type": "markdown",
      "metadata": {
        "id": "xR8J3aMB-TjC"
      },
      "source": [
        "## Referências"
      ]
    },
    {
      "cell_type": "markdown",
      "metadata": {
        "id": "vxyPgZ60-TjC"
      },
      "source": [
        "\n",
        "[1] https://www.logschool.com.br/blog/acuracidade-de-estoque-o-que-e-como-medir-e-dicas-de-acoes-para-sua-manutencao#:~:text=O%20termo%20%E2%80%9Cacuracidade%E2%80%9D%20tem%20origem,realmente%20consta%20no%20armaz%C3%A9m%20f%C3%ADsico.\n",
        "\n",
        "[2] https://delage.com.br/blog/o-que-e-acuracidade-de-estoque-como-medir-e-como-aumentar-a-taxa/\n",
        "\n",
        "[3] https://www.inovarse.org/sites/default/files/T14_0057.pdf"
      ]
    }
  ]
}