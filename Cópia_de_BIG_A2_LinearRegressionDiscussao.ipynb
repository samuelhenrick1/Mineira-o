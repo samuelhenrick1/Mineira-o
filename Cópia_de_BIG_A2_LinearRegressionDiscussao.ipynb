{
  "nbformat": 4,
  "nbformat_minor": 0,
  "metadata": {
    "colab": {
      "name": "Cópia de BIG_A2_LinearRegressionDiscussao.ipynb",
      "provenance": [],
      "collapsed_sections": [],
      "include_colab_link": true
    },
    "kernelspec": {
      "name": "python3",
      "display_name": "Python 3"
    }
  },
  "cells": [
    {
      "cell_type": "markdown",
      "metadata": {
        "id": "view-in-github",
        "colab_type": "text"
      },
      "source": [
        "<a href=\"https://colab.research.google.com/github/samuelhenrick1/Mineira-o/blob/main/C%C3%B3pia_de_BIG_A2_LinearRegressionDiscussao.ipynb\" target=\"_parent\"><img src=\"https://colab.research.google.com/assets/colab-badge.svg\" alt=\"Open In Colab\"/></a>"
      ]
    },
    {
      "cell_type": "markdown",
      "metadata": {
        "id": "J3LMBfpeHTwb"
      },
      "source": [
        "<head>\n",
        "  <meta name=\"author\" content=\"Rogério de Oliveira\">\n",
        "  <meta institution=\"author\" content=\"Universidade Presbiteriana Mackenzie\">\n",
        "</head>\n",
        "\n",
        "<img src=\"http://meusite.mackenzie.br/rogerio/mackenzie_logo/UPM.2_horizontal_vermelho.jpg\" width=300, align=\"right\">\n",
        "<!-- <h1 align=left><font size = 6, style=\"color:rgb(200,0,0)\"> optional title </font></h1> -->\n"
      ]
    },
    {
      "cell_type": "markdown",
      "metadata": {
        "id": "zQX8WQPeHTwc"
      },
      "source": [
        "# **Tarefa de Aprofundamento 2** \n",
        "## Discussão do CASO: Estimando o Preço de Imóveis em São Paulo\n",
        "---\n",
        "\n",
        "<br>\n",
        "<br>\n",
        "<br>\n",
        "\n",
        "Com base na atividade *Tarefa de Aprofundamento 1*, **Pesquise e Discuta apenas uma** das perguntas a seguir."
      ]
    },
    {
      "cell_type": "markdown",
      "metadata": {
        "id": "nGZH-j05q8WZ"
      },
      "source": [
        "### 1. Qual a consequencia prática da multicolinearidade no *hot encode* dos dados? Por que? "
      ]
    },
    {
      "cell_type": "markdown",
      "metadata": {
        "id": "Oar--2gn9EJ0"
      },
      "source": [
        "Antes de tudo, é interessante checar as definições de multicolinearidade e hot encode, que respectivamente temos que a multicolinearidade é a situação em que duas ou mais variáveis preditoras em um modelo estatístico estão linearmente relacionadas¹ e Hot Encode são variáveis binárias podendo serem chamadas de variáveis fictíficas, adquiridas ao decorrer de um processo de conversão de variáveis de dados categóricos. Posteriormente essas variáveis são convertidas cada valor em números binários e cada valor inteiro é representado por um vetor binário². Durante as leituras nas fontes indicadas, a consequencia da aplicação na multicolinaridade no hot enconde nos direciona a previsões e precições, quando em uma situação problema, precisamos colocar mais que uma variável estatisticas para subentendermos o que os nossos dados querem nos dizer. Devemos usar isso quando notamos que os dados não tem nenhuma relação entre si, aplicando o hot encode, estamos aplicando o aprendizado de máquina que consecultivamente nos ajudará a entender o que os dados querem de fato nos dizer.\n"
      ]
    },
    {
      "cell_type": "markdown",
      "metadata": {
        "id": "p32U1tt_9XBd"
      },
      "source": [
        "### 2. Na atividade você provavelmente empregou como melhor modelo um modelo com o `rsquared` maior (não o `rsquared_adj`!). Justifique. "
      ]
    },
    {
      "cell_type": "markdown",
      "metadata": {
        "id": "-tdb6x3s9XBd"
      },
      "source": [
        "*Sua resposta aqui em 1 (um) parágrafo.*"
      ]
    },
    {
      "cell_type": "markdown",
      "metadata": {
        "id": "xR8J3aMB-TjC"
      },
      "source": [
        "## Referências"
      ]
    },
    {
      "cell_type": "markdown",
      "metadata": {
        "id": "vxyPgZ60-TjC"
      },
      "source": [
        "[1] Gujarati, D. N., & Porter, D. C. (2011). Econometria Básica. Quinta Edição. Porto Alegre: AMGH Editora\n",
        "\n",
        "[2] https://www.educative.io/blog/one-hot-encoding"
      ]
    }
  ]
}