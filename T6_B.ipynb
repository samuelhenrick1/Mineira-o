{
  "nbformat": 4,
  "nbformat_minor": 0,
  "metadata": {
    "colab": {
      "name": "T6_B.ipynb",
      "provenance": [],
      "collapsed_sections": [],
      "include_colab_link": true
    },
    "kernelspec": {
      "name": "python3",
      "display_name": "Python 3"
    }
  },
  "cells": [
    {
      "cell_type": "markdown",
      "metadata": {
        "id": "view-in-github",
        "colab_type": "text"
      },
      "source": [
        "<a href=\"https://colab.research.google.com/github/samuelhenrick1/Mineira-o/blob/main/T6_B.ipynb\" target=\"_parent\"><img src=\"https://colab.research.google.com/assets/colab-badge.svg\" alt=\"Open In Colab\"/></a>"
      ]
    },
    {
      "cell_type": "markdown",
      "metadata": {
        "id": "J3LMBfpeHTwb"
      },
      "source": [
        "<head>\n",
        "  <meta name=\"author\" content=\"Rogério de Oliveira\">\n",
        "  <meta institution=\"author\" content=\"Universidade Presbiteriana Mackenzie\">\n",
        "</head>\n",
        "\n",
        "<img src=\"http://meusite.mackenzie.br/rogerio/mackenzie_logo/UPM.2_horizontal_vermelho.jpg\" width=300, align=\"right\">\n",
        "<!-- <h1 align=left><font size = 6, style=\"color:rgb(200,0,0)\"> optional title </font></h1> -->\n"
      ]
    },
    {
      "cell_type": "markdown",
      "metadata": {
        "id": "zQX8WQPeHTwc"
      },
      "source": [
        "# **Tarefa de Aprofundamento 6** \n",
        "## CASO: Clustering, Segmentando Países pela Força de Trabalho\n",
        "---\n",
        "\n",
        "<br>\n",
        "<br>\n",
        "<br>\n",
        "\n",
        "Com base na atividade *Tarefa de Aprofundamento 5*, **Pesquise e Discuta apenas uma** das perguntas a seguir.\n"
      ]
    },
    {
      "cell_type": "markdown",
      "metadata": {
        "id": "nGZH-j05q8WZ"
      },
      "source": [
        "### 1. Pesquise outros modelos de clusterização e exemplifique uma situação em que um desses modelos pesquisados apresenta resultados melhores que os modelos de clusterização hierárquica e kmédias. \n",
        "\n",
        "<small>\n",
        "Talvez você queira aplicar esse outro modelo aos dados da Tarefa 5 e compartilhar com os colegas. Mas isso é opcional."
      ]
    },
    {
      "cell_type": "markdown",
      "metadata": {
        "id": "Oar--2gn9EJ0"
      },
      "source": [
        "*Sua resposta aqui em 1 (um) parágrafo.*"
      ]
    },
    {
      "cell_type": "markdown",
      "metadata": {
        "id": "p32U1tt_9XBd"
      },
      "source": [
        "### 2. A clusterização é bastante empregada para a agrupamento de documentos como emails, páginas de notícias etc. Pesquise qual a métrica de similaridade (distância) normalmente empregada na clusterização de documentos e explique por quê. "
      ]
    },
    {
      "cell_type": "markdown",
      "metadata": {
        "id": "-tdb6x3s9XBd"
      },
      "source": [
        "A métrica de similaridade (distância) normalmente empregada em qualquer método de clusterização de documentos é definido por um algoritmo específico que determina como será feita a divisão dos casos no clusters distintos e todos os métodos propostos são fundamentados na ideia de distância ou similaridade/ dissimilaridade. Esses algoritmos podem ser classificados como Metric Learning ou Aprendizagem de Métrica, temos o algoritmo que ajuda na clusterização através de complexidades e análises léxicas capaz de interpretar caracteres e em seguida \"tokeniza-los\" através de símbolos como o Ensemble LexicalSemantic Document Clustering (ELSDC), temos também o Large Margin Nearest Neighbor (LMNN) e Information Theoretic Metric Learning (ITML). "
      ]
    },
    {
      "cell_type": "markdown",
      "metadata": {
        "id": "xR8J3aMB-TjC"
      },
      "source": [
        "## Referências"
      ]
    },
    {
      "cell_type": "markdown",
      "metadata": {
        "id": "vxyPgZ60-TjC"
      },
      "source": [
        "\n",
        "\n",
        "[1] Weinberger, K. e Saul, L. (2009). Distance Metric Learning for Large Margin Nearest Neighbor Classification. Journal of Machine Learning Research, 10, 207–244.\n",
        "\n",
        "[2] Xing, E. P., Ng, A. Y., Jordan, M. I., e Russell, S. (2002). Distance Metric Learning, with Application to Clustering with Side-information. In NIPS, pp. 505–512.\n",
        "\n",
        "[3] BARRETO, Rafael M.; Aprendizagem de Métrica Baseada na Distância Euclidiana Aplicada ao Reconhecimento de Faces. UFPE - Universidade Federal de Pernambuco; 2013; Recife-PE\n"
      ]
    }
  ]
}